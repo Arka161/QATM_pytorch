{
 "cells": [
  {
   "cell_type": "code",
   "execution_count": 1,
   "metadata": {},
   "outputs": [],
   "source": [
    "import numpy as np\n",
    "import cv2\n",
    "import matplotlib.pyplot as plt\n",
    "import torch\n",
    "import torch.nn as nn\n",
    "import torch.nn.functional as F\n",
    "import torchvision\n",
    "from torchvision import models, transforms, utils\n",
    "import copy\n",
    "from utils import *\n",
    "%matplotlib inline"
   ]
  },
  {
   "cell_type": "markdown",
   "metadata": {},
   "source": [
    "2がblock1_conv2に対応\n",
    "16がblock3_conv4に対応"
   ]
  },
  {
   "cell_type": "code",
   "execution_count": 2,
   "metadata": {},
   "outputs": [],
   "source": [
    "image_transform = transforms.Compose([\n",
    "        transforms.ToTensor(),\n",
    "        transforms.Normalize(\n",
    "            mean=[0.485, 0.456, 0.406],\n",
    "            std=[0.229, 0.224, 0.225],\n",
    "        )\n",
    "    ])"
   ]
  },
  {
   "cell_type": "code",
   "execution_count": 280,
   "metadata": {},
   "outputs": [],
   "source": [
    "mult_img = 1.0\n",
    "mult_tmp = 1.2"
   ]
  },
  {
   "cell_type": "code",
   "execution_count": 283,
   "metadata": {},
   "outputs": [],
   "source": [
    "image_raw = cv2.imread('sample_private/sample1.png')\n",
    "image_raw = cv2.resize(image_raw, dsize=None, fx=mult_img, fy=mult_img)\n",
    "image = image_transform(image_raw).unsqueeze(0)"
   ]
  },
  {
   "cell_type": "code",
   "execution_count": 281,
   "metadata": {},
   "outputs": [],
   "source": [
    "template_raw = cv2.imread('template_private/V.png')\n",
    "template_raw = cv2.resize(template_raw, dsize=None, fx=mult_tmp, fy=mult_tmp)\n",
    "template_1 = image_transform(template_raw).unsqueeze(0)"
   ]
  },
  {
   "cell_type": "code",
   "execution_count": 282,
   "metadata": {},
   "outputs": [],
   "source": [
    "template_raw2 = cv2.imread('template_private/A.png')\n",
    "template_raw2 = cv2.resize(template_raw2, dsize=None, fx=mult_tmp, fy=mult_tmp)\n",
    "template_2 = image_transform(template_raw2).unsqueeze(0)"
   ]
  },
  {
   "cell_type": "code",
   "execution_count": 275,
   "metadata": {},
   "outputs": [],
   "source": [
    "template = torch.cat([template_1, template_2], dim=0)"
   ]
  },
  {
   "cell_type": "code",
   "execution_count": 244,
   "metadata": {},
   "outputs": [
    {
     "data": {
      "text/plain": [
       "torch.Size([2, 3, 30, 30])"
      ]
     },
     "execution_count": 244,
     "metadata": {},
     "output_type": "execute_result"
    }
   ],
   "source": [
    "template.shape"
   ]
  },
  {
   "cell_type": "code",
   "execution_count": 234,
   "metadata": {},
   "outputs": [
    {
     "data": {
      "text/plain": [
       "(30, 30, 3)"
      ]
     },
     "execution_count": 234,
     "metadata": {},
     "output_type": "execute_result"
    }
   ],
   "source": [
    "template_raw2.shape"
   ]
  },
  {
   "cell_type": "code",
   "execution_count": 220,
   "metadata": {},
   "outputs": [
    {
     "data": {
      "text/plain": [
       "<matplotlib.image.AxesImage at 0x7f25d1dd07b8>"
      ]
     },
     "execution_count": 220,
     "metadata": {},
     "output_type": "execute_result"
    },
    {
     "data": {
      "image/png": "[encoded data removed]",
      "text/plain": [
       "<matplotlib.figure.Figure at 0x7f25fc7be7f0>"
      ]
     },
     "metadata": {},
     "output_type": "display_data"
    }
   ],
   "source": [
    "plt.imshow(image_raw)"
   ]
  },
  {
   "cell_type": "code",
   "execution_count": 228,
   "metadata": {},
   "outputs": [
    {
     "data": {
      "text/plain": [
       "<matplotlib.image.AxesImage at 0x7f25fc688da0>"
      ]
     },
     "execution_count": 228,
     "metadata": {},
     "output_type": "execute_result"
    },
    {
     "data": {
      "image/png": "[encoded data removed]",
      "text/plain": [
       "<matplotlib.figure.Figure at 0x7f25d1cb07b8>"
      ]
     },
     "metadata": {},
     "output_type": "display_data"
    }
   ],
   "source": [
    "plt.imshow(image_raw[28:58, 495:525, :])"
   ]
  },
  {
   "cell_type": "code",
   "execution_count": 218,
   "metadata": {},
   "outputs": [
    {
     "ename": "ValueError",
     "evalue": "all the input array dimensions except for the concatenation axis must match exactly",
     "output_type": "error",
     "traceback": [
      "\u001b[0;31m---------------------------------------------------------------------------\u001b[0m",
      "\u001b[0;31mValueError\u001b[0m                                Traceback (most recent call last)",
      "\u001b[0;32m<ipython-input-218-3422bbd273c9>\u001b[0m in \u001b[0;36m<module>\u001b[0;34m()\u001b[0m\n\u001b[0;32m----> 1\u001b[0;31m \u001b[0mnp\u001b[0m\u001b[0;34m.\u001b[0m\u001b[0mconcatenate\u001b[0m\u001b[0;34m(\u001b[0m\u001b[0;34m[\u001b[0m\u001b[0mtemplate_raw\u001b[0m\u001b[0;34m[\u001b[0m\u001b[0;32mNone\u001b[0m\u001b[0;34m,\u001b[0m \u001b[0;34m:\u001b[0m\u001b[0;34m,\u001b[0m\u001b[0;34m:\u001b[0m\u001b[0;34m,\u001b[0m\u001b[0;34m:\u001b[0m\u001b[0;34m]\u001b[0m\u001b[0;34m,\u001b[0m \u001b[0mtemplate_raw2\u001b[0m\u001b[0;34m[\u001b[0m\u001b[0;32mNone\u001b[0m\u001b[0;34m,\u001b[0m\u001b[0;34m:\u001b[0m\u001b[0;34m,\u001b[0m\u001b[0;34m:\u001b[0m\u001b[0;34m,\u001b[0m\u001b[0;34m:\u001b[0m\u001b[0;34m]\u001b[0m\u001b[0;34m]\u001b[0m\u001b[0;34m,\u001b[0m \u001b[0maxis\u001b[0m\u001b[0;34m=\u001b[0m\u001b[0;36m0\u001b[0m\u001b[0;34m)\u001b[0m\u001b[0;34m\u001b[0m\u001b[0m\n\u001b[0m",
      "\u001b[0;31mValueError\u001b[0m: all the input array dimensions except for the concatenation axis must match exactly"
     ]
    }
   ],
   "source": [
    "np.concatenate([template_raw[None, :,:,:], template_raw2[None,:,:,:]], axis=0)"
   ]
  },
  {
   "cell_type": "code",
   "execution_count": 219,
   "metadata": {},
   "outputs": [
    {
     "ename": "ValueError",
     "evalue": "all the input array dimensions except for the concatenation axis must match exactly",
     "output_type": "error",
     "traceback": [
      "\u001b[0;31m---------------------------------------------------------------------------\u001b[0m",
      "\u001b[0;31mValueError\u001b[0m                                Traceback (most recent call last)",
      "\u001b[0;32m<ipython-input-219-a9697f5db826>\u001b[0m in \u001b[0;36m<module>\u001b[0;34m()\u001b[0m\n\u001b[0;32m----> 1\u001b[0;31m \u001b[0mnp\u001b[0m\u001b[0;34m.\u001b[0m\u001b[0mvstack\u001b[0m\u001b[0;34m(\u001b[0m\u001b[0;34m[\u001b[0m\u001b[0mtemplate_raw\u001b[0m\u001b[0;34m[\u001b[0m\u001b[0;32mNone\u001b[0m\u001b[0;34m,\u001b[0m \u001b[0;34m:\u001b[0m\u001b[0;34m,\u001b[0m\u001b[0;34m:\u001b[0m\u001b[0;34m,\u001b[0m\u001b[0;34m:\u001b[0m\u001b[0;34m]\u001b[0m\u001b[0;34m,\u001b[0m \u001b[0mtemplate_raw2\u001b[0m\u001b[0;34m[\u001b[0m\u001b[0;32mNone\u001b[0m\u001b[0;34m,\u001b[0m\u001b[0;34m:\u001b[0m\u001b[0;34m,\u001b[0m\u001b[0;34m:\u001b[0m\u001b[0;34m,\u001b[0m\u001b[0;34m:\u001b[0m\u001b[0;34m]\u001b[0m\u001b[0;34m]\u001b[0m\u001b[0;34m)\u001b[0m\u001b[0;34m\u001b[0m\u001b[0m\n\u001b[0m",
      "\u001b[0;32m~/anaconda3/envs/fastai/lib/python3.6/site-packages/numpy/core/shape_base.py\u001b[0m in \u001b[0;36mvstack\u001b[0;34m(tup)\u001b[0m\n\u001b[1;32m    232\u001b[0m \u001b[0;34m\u001b[0m\u001b[0m\n\u001b[1;32m    233\u001b[0m     \"\"\"\n\u001b[0;32m--> 234\u001b[0;31m     \u001b[0;32mreturn\u001b[0m \u001b[0m_nx\u001b[0m\u001b[0;34m.\u001b[0m\u001b[0mconcatenate\u001b[0m\u001b[0;34m(\u001b[0m\u001b[0;34m[\u001b[0m\u001b[0matleast_2d\u001b[0m\u001b[0;34m(\u001b[0m\u001b[0m_m\u001b[0m\u001b[0;34m)\u001b[0m \u001b[0;32mfor\u001b[0m \u001b[0m_m\u001b[0m \u001b[0;32min\u001b[0m \u001b[0mtup\u001b[0m\u001b[0;34m]\u001b[0m\u001b[0;34m,\u001b[0m \u001b[0;36m0\u001b[0m\u001b[0;34m)\u001b[0m\u001b[0;34m\u001b[0m\u001b[0m\n\u001b[0m\u001b[1;32m    235\u001b[0m \u001b[0;34m\u001b[0m\u001b[0m\n\u001b[1;32m    236\u001b[0m \u001b[0;32mdef\u001b[0m \u001b[0mhstack\u001b[0m\u001b[0;34m(\u001b[0m\u001b[0mtup\u001b[0m\u001b[0;34m)\u001b[0m\u001b[0;34m:\u001b[0m\u001b[0;34m\u001b[0m\u001b[0m\n",
      "\u001b[0;31mValueError\u001b[0m: all the input array dimensions except for the concatenation axis must match exactly"
     ]
    }
   ],
   "source": [
    "np.vstack([template_raw[None, :,:,:], template_raw2[None,:,:,:]])"
   ]
  },
  {
   "cell_type": "code",
   "execution_count": 217,
   "metadata": {},
   "outputs": [
    {
     "data": {
      "text/plain": [
       "(1, 90, 45, 3)"
      ]
     },
     "execution_count": 217,
     "metadata": {},
     "output_type": "execute_result"
    }
   ],
   "source": [
    "template_raw[None, :,:,:]"
   ]
  },
  {
   "cell_type": "code",
   "execution_count": 201,
   "metadata": {},
   "outputs": [
    {
     "data": {
      "text/plain": [
       "(90, 45, 3)"
      ]
     },
     "execution_count": 201,
     "metadata": {},
     "output_type": "execute_result"
    }
   ],
   "source": [
    "template_raw.shape"
   ]
  },
  {
   "cell_type": "code",
   "execution_count": 202,
   "metadata": {},
   "outputs": [
    {
     "data": {
      "text/plain": [
       "<matplotlib.image.AxesImage at 0x7f25e8018e80>"
      ]
     },
     "execution_count": 202,
     "metadata": {},
     "output_type": "execute_result"
    },
    {
     "data": {
      "image/png": "[encoded data removed]",
      "text/plain": [
       "<matplotlib.figure.Figure at 0x7f25d1fca860>"
      ]
     },
     "metadata": {},
     "output_type": "display_data"
    }
   ],
   "source": [
    "plt.imshow(template_raw)"
   ]
  },
  {
   "cell_type": "code",
   "execution_count": 256,
   "metadata": {},
   "outputs": [],
   "source": [
    "class Featex():\n",
    "    def __init__(self, model, use_cuda):\n",
    "        self.use_cuda = use_cuda\n",
    "        self.feature1 = None\n",
    "        self.feature2 = None\n",
    "        self.model= copy.deepcopy(model.eval())\n",
    "        self.model = self.model[:17]\n",
    "        for param in self.model.parameters():\n",
    "            param.requires_grad = False\n",
    "        if self.use_cuda:\n",
    "            self.model = self.model.cuda()\n",
    "        self.model[2].register_forward_hook(self.save_feature1)\n",
    "        self.model[16].register_forward_hook(self.save_feature2)\n",
    "        \n",
    "    def save_feature1(self, module, input, output):\n",
    "        self.feature1 = output.detach()\n",
    "    \n",
    "    def save_feature2(self, module, input, output):\n",
    "        self.feature2 = output.detach()\n",
    "        \n",
    "    def __call__(self, input, mode='big'):\n",
    "        if self.use_cuda:\n",
    "            input = input.cuda()\n",
    "        _ = self.model(input)\n",
    "        if mode=='big':\n",
    "            # resize feature1 to the same size of feature2\n",
    "            self.feature1 = F.interpolate(self.feature1, size=(self.feature2.size()[2], self.feature2.size()[3]), mode='bilinear', align_corners=True)\n",
    "        else:        \n",
    "            # resize feature2 to the same size of feature1\n",
    "            self.feature2 = F.interpolate(self.feature2, size=(self.feature1.size()[2], self.feature1.size()[3]), mode='bilinear', align_corners=True)\n",
    "        return torch.cat((self.feature1, self.feature2), dim=1)"
   ]
  },
  {
   "cell_type": "code",
   "execution_count": 247,
   "metadata": {},
   "outputs": [],
   "source": [
    "class MyNormLayer():\n",
    "    def __call__(self, x1, x2):\n",
    "        bs, _ , H, W = x1.size()\n",
    "        _, _, h, w = x2.size()\n",
    "        x1 = x1.view(bs, -1, H*W)\n",
    "        x2 = x2.view(bs, -1, h*w)\n",
    "        concat = torch.cat((x1, x2), dim=2)\n",
    "        x_mean = torch.mean(concat, dim=2, keepdim=True)\n",
    "        x_std = torch.std(concat, dim=2, keepdim=True)\n",
    "        x1 = (x1 - x_mean) / x_std\n",
    "        x2 = (x2 - x_mean) / x_std\n",
    "        x1 = x1.view(bs, -1, H, W)\n",
    "        x2 = x2.view(bs, -1, h, w)\n",
    "        return [x1, x2]"
   ]
  },
  {
   "cell_type": "code",
   "execution_count": 248,
   "metadata": {},
   "outputs": [],
   "source": [
    "class CreateModel():\n",
    "    def __init__(self, alpha, model, use_cuda):\n",
    "        self.alpha = alpha\n",
    "        self.featex = Featex(model, use_cuda)\n",
    "    def __call__(self, template, image):\n",
    "        T_feat = self.featex(template)\n",
    "        I_feat = self.featex(image)\n",
    "        I_feat, T_feat = MyNormLayer()(I_feat, T_feat)\n",
    "        dist = torch.einsum(\"xcab,xcde->xabde\", I_feat / torch.norm(I_feat, dim=1, keepdim=True), T_feat / torch.norm(T_feat, dim=1, keepdim=True))\n",
    "        conf_map = QATM(self.alpha)(dist)\n",
    "        return conf_map"
   ]
  },
  {
   "cell_type": "code",
   "execution_count": 249,
   "metadata": {},
   "outputs": [],
   "source": [
    "class QATM():\n",
    "    def __init__(self, alpha):\n",
    "        self.alpha = alpha\n",
    "        \n",
    "    def __call__(self, x):\n",
    "        batch_size, ref_row, ref_col, qry_row, qry_col = x.size()\n",
    "        print(\"x\", x.size())\n",
    "        x = x.view(batch_size, ref_row*ref_col, qry_row*qry_col)\n",
    "        xm_ref = x - torch.max(x, dim=1, keepdim=True)[0]\n",
    "        xm_qry = x - torch.max(x, dim=2, keepdim=True)[0]\n",
    "        confidence = torch.sqrt(F.softmax(self.alpha*xm_ref, dim=1) * F.softmax(self.alpha * xm_qry, dim=2))\n",
    "        conf_values, ind3 = torch.topk(confidence, 1)\n",
    "        ind1, ind2 = torch.meshgrid(torch.arange(batch_size), torch.arange(ref_row*ref_col))\n",
    "        ind1 = ind1.flatten()\n",
    "        ind2 = ind2.flatten()\n",
    "        ind3 = ind3.flatten()\n",
    "        if x.is_cuda:\n",
    "            ind1 = ind1.cuda()\n",
    "            ind2 = ind2.cuda()\n",
    "        \n",
    "        print(\"confidence\", confidence.size())\n",
    "        values = confidence[ind1, ind2, ind3]\n",
    "        print(\"values\", values.size())\n",
    "        values = torch.reshape(values, [batch_size, ref_row, ref_col, 1])\n",
    "        return values\n",
    "    def compute_output_shape( self, input_shape ):\n",
    "        bs, H, W, _, _ = input_shape\n",
    "        return (bs, H, W, 1)"
   ]
  },
  {
   "cell_type": "code",
   "execution_count": 257,
   "metadata": {},
   "outputs": [],
   "source": [
    "model = CreateModel(model=models.vgg19(pretrained=True).features, alpha=25, use_cuda=True)"
   ]
  },
  {
   "cell_type": "code",
   "execution_count": 258,
   "metadata": {},
   "outputs": [],
   "source": [
    "def run_one_sample(template, image, thresh=0.7):\n",
    "    val = model(template, image)\n",
    "    if val.is_cuda:\n",
    "        val = val.cpu()\n",
    "    val = val.numpy()\n",
    "    print(val.shape)\n",
    "\n",
    "    # compute geometry average on score map\n",
    "    val = np.log(val)\n",
    "    gray = val[0,:,:,0]\n",
    "    gray = cv2.resize( gray, (image.size()[-1], image.size()[-2]) )\n",
    "    h = template.size()[-2]\n",
    "    w = template.size()[-1]\n",
    "    score = compute_score( gray, w, h) \n",
    "    score[score>-1e-7] = score.min()\n",
    "    score = np.exp(score / (h*w)) # reverse number range back after computing geometry average\n",
    "    \n",
    "    # plot result\n",
    "    nms_res = nms(score, w, h, thresh)\n",
    "    d_img = image_raw.copy()\n",
    "    for box in nms_res:\n",
    "        d_img = cv2.rectangle(d_img, tuple(box[0]), tuple(box[1]), (255, 0, 0), 3)\n",
    "    plt.imshow(d_img)\n",
    "    return score"
   ]
  },
  {
   "cell_type": "code",
   "execution_count": 259,
   "metadata": {},
   "outputs": [],
   "source": [
    "def nms(score, w_ini, h_ini, thresh=0.7):\n",
    "    dots = np.array(np.where(score > thresh*score.max()))\n",
    "    \n",
    "    x1 = dots[1] - w_ini//2\n",
    "    x2 = x1 + w_ini\n",
    "    y1 = dots[0] - h_ini//2\n",
    "    y2 = y1 + h_ini\n",
    "\n",
    "    areas = (x2 - x1 + 1) * (y2 - y1 + 1)\n",
    "    scores = score[dots[0], dots[1]]\n",
    "    order = scores.argsort()[::-1]\n",
    "\n",
    "    keep = []\n",
    "    while order.size > 0:\n",
    "        i = order[0]\n",
    "        keep.append(i)\n",
    "        xx1 = np.maximum(x1[i], x1[order[1:]])\n",
    "        yy1 = np.maximum(y1[i], y1[order[1:]])\n",
    "        xx2 = np.minimum(x2[i], x2[order[1:]])\n",
    "        yy2 = np.minimum(y2[i], y2[order[1:]])\n",
    "\n",
    "        w = np.maximum(0.0, xx2 - xx1 + 1)\n",
    "        h = np.maximum(0.0, yy2 - yy1 + 1)\n",
    "        inter = w * h\n",
    "        ovr = inter / (areas[i] + areas[order[1:]] - inter)\n",
    "\n",
    "        inds = np.where(ovr <= 0.3)[0]\n",
    "        order = order[inds + 1]\n",
    "    boxes = np.array([[x1[keep], y1[keep]], [x2[keep], y2[keep]]]).transpose(2, 0, 1)\n",
    "    return boxes"
   ]
  },
  {
   "cell_type": "code",
   "execution_count": 286,
   "metadata": {},
   "outputs": [
    {
     "name": "stdout",
     "output_type": "stream",
     "text": [
      "x torch.Size([1, 218, 319, 9, 9])\n",
      "confidence torch.Size([1, 69542, 81])\n",
      "values torch.Size([69542])\n",
      "(1, 218, 319, 1)\n"
     ]
    },
    {
     "data": {
      "image/png": "[encoded data removed]",
      "text/plain": [
       "<matplotlib.figure.Figure at 0x7f25d03ad470>"
      ]
     },
     "metadata": {},
     "output_type": "display_data"
    }
   ],
   "source": [
    "score = run_one_sample(template_1, image, thresh=0.8)"
   ]
  },
  {
   "cell_type": "code",
   "execution_count": 277,
   "metadata": {},
   "outputs": [
    {
     "data": {
      "text/plain": [
       "<matplotlib.image.AxesImage at 0x7f25cac1f588>"
      ]
     },
     "execution_count": 277,
     "metadata": {},
     "output_type": "execute_result"
    },
    {
     "data": {
      "image/png": "[encoded data removed]",
      "text/plain": [
       "<matplotlib.figure.Figure at 0x7f25d1c41390>"
      ]
     },
     "metadata": {},
     "output_type": "display_data"
    }
   ],
   "source": [
    "plt.imshow(score)"
   ]
  },
  {
   "cell_type": "code",
   "execution_count": null,
   "metadata": {},
   "outputs": [],
   "source": []
  }
 ],
 "metadata": {
  "kernelspec": {
   "display_name": "Python 3",
   "language": "python",
   "name": "python3"
  },
  "language_info": {
   "codemirror_mode": {
    "name": "ipython",
    "version": 3
   },
   "file_extension": ".py",
   "mimetype": "text/x-python",
   "name": "python",
   "nbconvert_exporter": "python",
   "pygments_lexer": "ipython3",
   "version": "3.6.4"
  }
 },
 "nbformat": 4,
 "nbformat_minor": 2
}
